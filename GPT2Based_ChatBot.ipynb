{
  "nbformat": 4,
  "nbformat_minor": 0,
  "metadata": {
    "colab": {
      "provenance": []
    },
    "kernelspec": {
      "name": "python3",
      "display_name": "Python 3"
    },
    "language_info": {
      "name": "python"
    }
  },
  "cells": [
    {
      "cell_type": "code",
      "execution_count": null,
      "metadata": {
        "id": "A-odk1fMs1Cu"
      },
      "outputs": [],
      "source": [
        "!pip install transformers"
      ]
    },
    {
      "cell_type": "code",
      "source": [
        "!pip install torch torchvision"
      ],
      "metadata": {
        "id": "CHOQh4k4s6WM"
      },
      "execution_count": null,
      "outputs": []
    },
    {
      "cell_type": "code",
      "source": [
        "import torch"
      ],
      "metadata": {
        "id": "pUeHDprHyakJ"
      },
      "execution_count": 22,
      "outputs": []
    },
    {
      "cell_type": "code",
      "source": [
        "from transformers import GPT2Tokenizer,GPT2LMHeadModel"
      ],
      "metadata": {
        "id": "_ZK-EnIJtCA2"
      },
      "execution_count": 23,
      "outputs": []
    },
    {
      "cell_type": "code",
      "source": [
        "tokened= GPT2Tokenizer.from_pretrained('gpt2-large')\n",
        "model= GPT2LMHeadModel.from_pretrained('gpt2-large', pad_token_id= tokened.eos_token_id)"
      ],
      "metadata": {
        "id": "8VRkOdQJtRaX"
      },
      "execution_count": 24,
      "outputs": []
    },
    {
      "cell_type": "code",
      "source": [
        "tokened.eos_token_id"
      ],
      "metadata": {
        "colab": {
          "base_uri": "https://localhost:8080/"
        },
        "id": "ui93TD5Et3vE",
        "outputId": "57212999-ceed-4022-eca7-1ee31819956c"
      },
      "execution_count": 25,
      "outputs": [
        {
          "output_type": "execute_result",
          "data": {
            "text/plain": [
              "50256"
            ]
          },
          "metadata": {},
          "execution_count": 25
        }
      ]
    },
    {
      "cell_type": "markdown",
      "source": [],
      "metadata": {
        "id": "CaBmc4nM8YT_"
      }
    },
    {
      "cell_type": "code",
      "source": [
        "tokened.decode(tokened.eos_token_id)"
      ],
      "metadata": {
        "colab": {
          "base_uri": "https://localhost:8080/",
          "height": 36
        },
        "id": "IDdDgjZtuomR",
        "outputId": "9438593e-de5e-4ccc-836e-1325e3ecf078"
      },
      "execution_count": 26,
      "outputs": [
        {
          "output_type": "execute_result",
          "data": {
            "text/plain": [
              "'<|endoftext|>'"
            ],
            "application/vnd.google.colaboratory.intrinsic+json": {
              "type": "string"
            }
          },
          "metadata": {},
          "execution_count": 26
        }
      ]
    },
    {
      "cell_type": "code",
      "source": [
        "sentence='I like reading motivational '\n",
        "id= tokened.encode(sentence, return_tensors='pt')"
      ],
      "metadata": {
        "id": "J_CowdF6vU9Z"
      },
      "execution_count": 77,
      "outputs": []
    },
    {
      "cell_type": "code",
      "source": [
        "id"
      ],
      "metadata": {
        "colab": {
          "base_uri": "https://localhost:8080/"
        },
        "id": "Y81NCWPwwXNs",
        "outputId": "a4746316-0dd2-43b3-9de9-6e97a32cfd39"
      },
      "execution_count": 78,
      "outputs": [
        {
          "output_type": "execute_result",
          "data": {
            "text/plain": [
              "tensor([[   40,   588,  3555, 49066,   220]])"
            ]
          },
          "metadata": {},
          "execution_count": 78
        }
      ]
    },
    {
      "cell_type": "code",
      "source": [
        "tokened.decode(id[0])"
      ],
      "metadata": {
        "colab": {
          "base_uri": "https://localhost:8080/",
          "height": 36
        },
        "id": "ruqD6_jpz_gS",
        "outputId": "abd826b6-fc66-4978-fabc-0b7daa7cffc3"
      },
      "execution_count": 82,
      "outputs": [
        {
          "output_type": "execute_result",
          "data": {
            "text/plain": [
              "'I like reading motivational '"
            ],
            "application/vnd.google.colaboratory.intrinsic+json": {
              "type": "string"
            }
          },
          "metadata": {},
          "execution_count": 82
        }
      ]
    },
    {
      "cell_type": "code",
      "source": [
        "result= model.generate(id, max_length=100, num_beams=10,no_repeat_ngram_size=2, early_stopping= True)\n",
        "result\n"
      ],
      "metadata": {
        "colab": {
          "base_uri": "https://localhost:8080/"
        },
        "id": "su0AZz3W0Frz",
        "outputId": "abaf5224-df6c-4add-d1f4-d8fcc362eda6"
      },
      "execution_count": 83,
      "outputs": [
        {
          "output_type": "execute_result",
          "data": {
            "text/plain": [
              "tensor([[   40,   588,  3555, 49066,   220,   933, 12754,    11,   475,   314,\n",
              "           836,   470,   892,   314,  1053,  1683,  1100,   257,  1492,   326,\n",
              "           925,   502,  1254,  1365,   546,  3589,   621,   428,   530,    13,\n",
              "           198,   198,    40,  1101,   407,  1654,   611,   340,   338,   780,\n",
              "           314,  1101,   281, 18951,  1851,    11,   393,   611,   314,   655,\n",
              "           588,   284,  1100,   546,   661,   508,   389, 18951, 24040,    13,\n",
              "         15467,   835,    11,   428,  1492,   318,   257,  1276,    12,   961,\n",
              "           329,  2687,   508,  3382,   284,  2193,   703,   284,   307,   517,\n",
              "          6563,   287,   511,   898,  4168,    13, 50256]])"
            ]
          },
          "metadata": {},
          "execution_count": 83
        }
      ]
    },
    {
      "cell_type": "code",
      "source": [
        "tokened.decode(result[0], skip_special_tokens=True)"
      ],
      "metadata": {
        "colab": {
          "base_uri": "https://localhost:8080/",
          "height": 70
        },
        "id": "4rxb8lT22SRk",
        "outputId": "89144055-9439-4f5d-ae21-1e278dd2c370"
      },
      "execution_count": 84,
      "outputs": [
        {
          "output_type": "execute_result",
          "data": {
            "text/plain": [
              "\"I like reading motivational vernacular, but I don't think I've ever read a book that made me feel better about myself than this one.\\n\\nI'm not sure if it's because I'm an introvert, or if I just like to read about people who are introverts. Either way, this book is a must-read for anyone who wants to learn how to be more confident in their own skin.\""
            ],
            "application/vnd.google.colaboratory.intrinsic+json": {
              "type": "string"
            }
          },
          "metadata": {},
          "execution_count": 84
        }
      ]
    },
    {
      "cell_type": "code",
      "source": [],
      "metadata": {
        "id": "fTTswLeV5KHa"
      },
      "execution_count": null,
      "outputs": []
    }
  ]
}